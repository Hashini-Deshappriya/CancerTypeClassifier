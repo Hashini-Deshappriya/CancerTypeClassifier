{
  "nbformat": 4,
  "nbformat_minor": 0,
  "metadata": {
    "accelerator": "GPU",
    "colab": {
      "name": "Densenet121_test1(5clz)withK-fold.ipynb",
      "provenance": [],
      "collapsed_sections": [],
      "machine_shape": "hm"
    },
    "kernelspec": {
      "display_name": "Python 3",
      "name": "python3"
    },
    "language_info": {
      "name": "python"
    }
  },
  "cells": [
    {
      "cell_type": "code",
      "metadata": {
        "id": "SrTTRA02bpH3"
      },
      "source": [
        "#!/usr/bin/env python\n",
        "import os\n",
        "import pandas as pd\n",
        "import numpy as np\n",
        "from numpy import savetxt\n",
        "from sklearn.model_selection import StratifiedKFold\n",
        "from imblearn.over_sampling import SMOTE, ADASYN\n",
        "from skimage import io\n",
        "from sklearn.feature_selection import VarianceThreshold\n",
        "from google.colab import drive\n",
        "drive.mount('/content/drive')\n",
        "\n",
        "import tensorflow as tf\n",
        "from tensorflow.keras.applications.resnet50 import preprocess_input, decode_predictions\n",
        "from tensorflow.keras.preprocessing import image\n",
        "import matplotlib.pyplot as plt\n",
        "import random\n",
        "import os.path\n",
        "\n",
        "# Code to read csv file into Colaboratory:\n",
        "!pip install -U -q PyDrive\n",
        "\n",
        "from pydrive.auth import GoogleAuth\n",
        "from pydrive.drive import GoogleDrive\n",
        "from google.colab import auth\n",
        "from oauth2client.client import GoogleCredentials\n",
        "# Authenticate and create the PyDrive client.\n",
        "auth.authenticate_user()\n",
        "gauth = GoogleAuth()\n",
        "gauth.credentials = GoogleCredentials.get_application_default()\n",
        "drive = GoogleDrive(gauth)\n",
        "\n",
        "#https://drive.google.com/file/d/162jF_QYy7_-fMEBpw9g5p3ejPc2btzow/view?usp=sharing\n",
        "URL_training = 'https://drive.google.com/file/d/1omw0_whYBUZIHQTBvqd9SJI-z66CkapO/view?usp=sharing'\n",
        "path = 'https://drive.google.com/uc?export=download&id='+URL_training.split('/')[-2]\n",
        "#df = pd.read_pickle(path)\n",
        "#training_data = pd.read_csv(path)\n",
        "#training_data.head()\n",
        "#print(training_data)\n",
        "\n",
        "\n",
        "\n",
        "#training_data['s1'] = np.log2((training_data['s1'])+1)\n",
        "\n",
        "#(training_data)\n",
        "\n",
        "#features_raw = np.array(training_data.iloc[:, training_data.columns != 'class'], dtype=float)\n",
        "#features = np.log2(1.0 + features_raw)\n",
        "#first_column=training_data. iloc[:, 0]\n",
        "\n",
        "#features = np.insert(features, 0, first_column, axis=1)\n",
        "\n",
        "\n",
        "#print(features)\n",
        "\n",
        "# Import the pretrained CNN 'ResNet50'\n",
        "model = tf.keras.applications.resnet50.ResNet50()\n",
        "\n",
        "\n",
        "\n",
        "\n",
        "# Visualize the different layers\n",
        "#model.summary()\n",
        "\n",
        "\n",
        "\n"
      ],
      "execution_count": null,
      "outputs": []
    },
    {
      "cell_type": "code",
      "metadata": {
        "colab": {
          "base_uri": "https://localhost:8080/"
        },
        "id": "TC4QWqBQ0Mi7",
        "outputId": "d3c9f172-8182-4324-8237-6136e99becf8"
      },
      "source": [
        "from google.colab import drive\n",
        "drive.mount('/content/drive')"
      ],
      "execution_count": null,
      "outputs": [
        {
          "output_type": "stream",
          "text": [
            "Drive already mounted at /content/drive; to attempt to forcibly remount, call drive.mount(\"/content/drive\", force_remount=True).\n"
          ],
          "name": "stdout"
        }
      ]
    },
    {
      "cell_type": "code",
      "metadata": {
        "id": "1O7T7xZ-q0n3"
      },
      "source": [
        "import tensorflow as tf\n",
        "#from tensorflow.keras.applications.resnet50 import preprocess_input, decode_predictions\n",
        "\n",
        "\n",
        "\n",
        "# Import the pretrained CNN 'ResNet50'\n",
        "model = tf.keras.applications.resnet50.ResNet50()\n",
        "\n",
        "\n",
        "\n",
        "\n",
        "\n",
        "# Visualize the different layers\n",
        "model.summary()\n",
        "print(len(model.layers))"
      ],
      "execution_count": null,
      "outputs": []
    },
    {
      "cell_type": "code",
      "metadata": {
        "id": "igPwedBVPc_C"
      },
      "source": [
        "#https://drive.google.com/file/d/162jF_QYy7_-fMEBpw9g5p3ejPc2btzow/view?usp=sharing\n",
        "URL_training = 'https://drive.google.com/file/d/1omw0_whYBUZIHQTBvqd9SJI-z66CkapO/view?usp=sharing'\n",
        "path = \"/content/drive/MyDrive/Colab Notebooks/big_data.csv\"\n",
        "#df = pd.read_pickle(path)\n",
        "training_data = pd.read_csv(path)\n",
        "training_data.head()\n",
        "print(training_data)"
      ],
      "execution_count": null,
      "outputs": []
    },
    {
      "cell_type": "code",
      "metadata": {
        "id": "v0oT16BUbeJW"
      },
      "source": [
        "#features_raw = np.array(training_data.iloc[:, training_data.columns != 'class'], dtype=float)\n",
        "#features = np.log2(1.0 + features_raw)\n",
        "#first_column=training_data. iloc[:, 0]\n",
        "#features = np.insert(features, 0, first_column, axis=1)\n",
        "\n",
        "\n",
        "\n"
      ],
      "execution_count": null,
      "outputs": []
    },
    {
      "cell_type": "code",
      "metadata": {
        "id": "zxg9iyHkecBp"
      },
      "source": [
        "features_raw = np.array(training_data.iloc[:, training_data.columns != 'class'], dtype=float)\n",
        "features = np.round((features_raw*255.0)/24248)\n",
        "first_column=training_data. iloc[:, 0]\n",
        "\n",
        "features = np.insert(features, 0, first_column, axis=1)\n",
        "print(features)"
      ],
      "execution_count": null,
      "outputs": []
    },
    {
      "cell_type": "code",
      "metadata": {
        "id": "qqGaYugpBaZ8"
      },
      "source": [
        ""
      ],
      "execution_count": null,
      "outputs": []
    },
    {
      "cell_type": "code",
      "metadata": {
        "id": "NIaYMuLBVvne"
      },
      "source": [
        "from PIL import Image\n",
        "import cv2\n",
        "import os\n",
        "import matplotlib.pyplot as plt\n",
        "\n",
        "path_dir = \"/content/drive/MyDrive/Colab Notebooks/NewClass5/\"\n",
        "result=[]\n",
        "index=0\n",
        "for a in range(10000,13201):\n",
        "  ar=features[a]\n",
        "\n",
        "         \n",
        "  if(ar[0] == 1.0):\n",
        "    dirName = 'ACC'\n",
        "  elif(ar[0] == 2.0):\n",
        "    dirName = 'BLCA'\n",
        "  elif(ar[0] == 3.0):\n",
        "    dirName = 'BRCA'\n",
        "  elif(ar[0] == 4.0):\n",
        "    dirName = 'CESC'\n",
        "  elif(ar[0] == 5.0):\n",
        "    dirName = 'CHOL'\n",
        "  elif(ar[0] == 6.0):\n",
        "    dirName = 'COAD'\n",
        "  elif(ar[0] == 7.0):\n",
        "    dirName = 'DLBC'\n",
        "  elif(ar[0] == 8.0):\n",
        "    dirName = 'ESCA'\n",
        "  elif(ar[0] == 9.0):\n",
        "    dirName = 'GBM'\n",
        "  elif(ar[0] == 10.0):\n",
        "    dirName = 'HNSC'\n",
        "  elif(ar[0] == 11.0):\n",
        "    dirName = 'KICH'\n",
        "  elif(ar[0] == 12.0):\n",
        "    dirName = 'KIRC'\n",
        "  elif(ar[0] == 13.0):\n",
        "    dirName = 'KIRP'\n",
        "  elif(ar[0] == 14.0):\n",
        "    dirName = 'LAML'\n",
        "  elif(ar[0] == 15.0):\n",
        "    dirName = 'LGG'\n",
        "  elif(ar[0] == 16.0):\n",
        "    dirName = 'LIHC'\n",
        "  elif(ar[0] == 17.0):\n",
        "    dirName = 'LUAD'  \n",
        "  elif(ar[0] == 18.0):\n",
        "    dirName = 'LUSC'\n",
        "  elif(ar[0] == 19.0):\n",
        "    dirName = 'MESO'  \n",
        "  elif(ar[0] == 20.0):\n",
        "    dirName = 'OV'  \n",
        "  elif(ar[0] == 21.0):\n",
        "    dirName = 'PAAD'  \n",
        "  elif(ar[0] == 22.0):\n",
        "    dirName = 'PCPG' \n",
        "  elif(ar[0] == 23.0):\n",
        "    dirName = 'PRAD'\n",
        "  elif(ar[0] == 24.0):\n",
        "    dirName = 'READ'\n",
        "  elif(ar[0] == 25.0):\n",
        "    dirName = 'SARC'\n",
        "  elif(ar[0] == 26.0):\n",
        "    dirName = 'SKCM'\n",
        "  elif(ar[0] == 27.0):\n",
        "    dirName = 'STAD'\n",
        "  elif(ar[0] == 28.0):\n",
        "    dirName = 'TGCT'\n",
        "  elif(ar[0] == 29.0):\n",
        "    dirName = 'THCA'\n",
        "  elif(ar[0] == 30.0):\n",
        "    dirName = 'THYM'\n",
        "  elif(ar[0] == 31.0):\n",
        "    dirName = 'UCEC'\n",
        "  elif(ar[0] == 32.0):\n",
        "    dirName = 'UCS'\n",
        "  elif(ar[0] == 33.0):\n",
        "    dirName = 'UVM'\n",
        "  if not os.path.exists('/content/drive/MyDrive/Colab Notebooks/NewClass5/'+dirName):\n",
        "\t    os.mkdir(os.path.join(path_dir, dirName))\n",
        "  \n",
        "\n",
        "  \n",
        "  geneArray=np.zeros((224,224,3))\n",
        "  \n",
        "\n",
        "  \n",
        "  i=0\n",
        "  j=0\n",
        "  k=0\n",
        "\n",
        "  m=1\n",
        "  for i in range(0, 224):\n",
        "    for j in range(0, 224,7):\n",
        "      if m < 6844:\n",
        "        geneArray[i][j][0]=ar[m]\n",
        "        geneArray[i][j+1][0]=ar[m]\n",
        "        geneArray[i][j+2][0]=ar[m]\n",
        "        geneArray[i][j+3][0]=ar[m]\n",
        "        geneArray[i][j+4][0]=ar[m]\n",
        "        geneArray[i][j+5][0]=ar[m]\n",
        "        geneArray[i][j+6][0]=ar[m]\n",
        "        \n",
        "        m=m+1\n",
        "      else :\n",
        "        geneArray[i][j][0]=0.0\n",
        "\n",
        "  \n",
        "  \n",
        "\n",
        "  n=6844\n",
        "\n",
        "  for i in range(0, 224,7):\n",
        "    for j in range(0, 224):\n",
        "      if n < 13688:\n",
        "        geneArray[i][j][1]=ar[n]\n",
        "        geneArray[i+1][j][1]=ar[n]\n",
        "        geneArray[i+2][j][1]=ar[n]\n",
        "        geneArray[i+3][j][1]=ar[n]\n",
        "        geneArray[i+4][j][1]=ar[n]\n",
        "        geneArray[i+5][j][1]=ar[n]\n",
        "        geneArray[i+6][j][1]=ar[n]\n",
        "        n=n+1\n",
        "      else :\n",
        "        geneArray[i][j][1]=0.0\n",
        "\n",
        "  o=13688\n",
        "\n",
        "  for i in range(0, 224):\n",
        "    for j in range(0, 224,7):\n",
        "      if o < 20533:\n",
        "        geneArray[i][j][2]=ar[o]\n",
        "        geneArray[i][j+1][2]=ar[o]\n",
        "        geneArray[i][j+2][2]=ar[o]\n",
        "        geneArray[i][j+3][2]=ar[o]\n",
        "        geneArray[i][j+4][2]=ar[o]\n",
        "        geneArray[i][j+5][2]=ar[o]\n",
        "        geneArray[i][j+6][2]=ar[o]\n",
        "        o=o+1\n",
        "      else :\n",
        "        geneArray[i][j][2]=0.0\n",
        "\n",
        "  result.append(geneArray)\n",
        "  num=str(a)\n",
        "\n",
        "\n",
        "  plt.imshow(result[index])\n",
        "  index=index+1\n",
        "  #plt.show()\n",
        "\n",
        " \n",
        "  plt.savefig('/content/drive/MyDrive/Colab Notebooks/NewClass5/'+dirName+'/'+'img'+num+'.png')\n",
        "  plt.close()\n",
        "  #plt.save('/content/drive/MyDrive/Colab Notebooks/TrainingNew1/'+dirName+'/'+'img'+num, geneArray)\n",
        "  #img = Image.fromarray(geneArray, 'RGB')\n",
        "  #img.resize((224,224))\n",
        "  #print(img.size)\n",
        "  #num=str(a)\n",
        "  #img.save('/content/drive/MyDrive/Colab Notebooks/Training1/'+dirName+'/'+'img'+num+'.png')\n",
        "  #img.show()\n",
        "\n"
      ],
      "execution_count": null,
      "outputs": []
    },
    {
      "cell_type": "code",
      "metadata": {
        "id": "0R30yeQDtp1M"
      },
      "source": [
        "import matplotlib.pyplot as plt\n",
        " \n",
        "plt.imshow(result[1])\n",
        "#plt.show()\n",
        "plt.savefig('/content/drive/MyDrive/Colab Notebooks/Training1/'+dirName+'/'+'img'+num+'.png')\n",
        "plt.close()\n"
      ],
      "execution_count": null,
      "outputs": []
    },
    {
      "cell_type": "code",
      "metadata": {
        "id": "GUd_9aLaRXlz"
      },
      "source": [
        "import tensorflow as tf\n",
        "import pandas as pd\n",
        "import numpy as np\n",
        "import matplotlib.pyplot as plt\n",
        "import seaborn as sns\n",
        "import random\n",
        "from keras.utils.vis_utils import plot_model\n"
      ],
      "execution_count": null,
      "outputs": []
    },
    {
      "cell_type": "code",
      "metadata": {
        "id": "NDC8HoduX-tj"
      },
      "source": [
        "model = tf.keras.applications.DenseNet121(weights='imagenet')\n",
        "base_model = tf.keras.applications.DenseNet121(weights='imagenet', include_top = False)\n",
        "\n",
        "print(len(base_model.layers))"
      ],
      "execution_count": null,
      "outputs": []
    },
    {
      "cell_type": "code",
      "metadata": {
        "id": "qvSSbbvPYX4U"
      },
      "source": [
        "from keras.layers import Dense, Flatten, Activation, Dropout, GlobalAveragePooling2D,MaxPooling3D\n",
        "from keras.callbacks import ModelCheckpoint, LearningRateScheduler, TensorBoard, EarlyStopping\n",
        "for i, layer in enumerate(base_model.layers):\n",
        "  print(i, layer.name)\n",
        "x = base_model.output\n",
        "\n",
        "\n",
        "x = tf.keras.layers.GlobalAveragePooling2D()(x)\n",
        "\n",
        "x = tf.keras.layers.Dense(512, activation='relu')(x)\n",
        "x = Dropout(rate=0.4)(x)\n",
        "x = tf.keras.layers.Dense(256, activation='relu')(x)\n",
        "x = Dropout(rate=0.4)(x)\n",
        "x = tf.keras.layers.Dense(128, activation='relu')(x)\n",
        "\n",
        "preds = tf.keras.layers.Dense(5, activation ='softmax')(x)\n",
        "\n",
        "model = tf.keras.models.Model(inputs=base_model.input, outputs=preds)\n",
        "#print(model.summary())\n",
        "print(len(model.layers))"
      ],
      "execution_count": null,
      "outputs": []
    },
    {
      "cell_type": "code",
      "metadata": {
        "id": "Qi60hN44Y_-A"
      },
      "source": [
        "#for layer in model.layers[:40]:\n",
        "  #layer.trainable = False"
      ],
      "execution_count": null,
      "outputs": []
    },
    {
      "cell_type": "code",
      "metadata": {
        "id": "jY0bHvkpKXWl"
      },
      "source": [
        "#for layer in model.layers[40:]:\n",
        "  #layer.trainable = True\n",
        "!pip install split-folders\n",
        "!pip install split-folders tqdm\n",
        "import splitfolders\n",
        "splitfolders.ratio('/content/drive/MyDrive/Colab Notebooks/5Fold/train', output='/content/drive/MyDrive/Colab Notebooks/5Fold/fold0',\n",
        "                    seed=1337, ratio=(.3, .3, .4))"
      ],
      "execution_count": null,
      "outputs": []
    },
    {
      "cell_type": "code",
      "metadata": {
        "id": "94FbrXTNjBo0"
      },
      "source": [
        "train_datagen = tf.keras.preprocessing.image.ImageDataGenerator(preprocessing_function=tf.keras.applications.densenet.preprocess_input)\n",
        "train_set = train_datagen.flow_from_directory('/content/drive/MyDrive/Colab Notebooks/5Fold/val/', \n",
        "                                                   target_size = (224, 224),\n",
        "                                                   color_mode = 'rgb',\n",
        "                                                   batch_size = 32,\n",
        "                                                   class_mode = 'categorical',\n",
        "                                                   shuffle = True)"
      ],
      "execution_count": null,
      "outputs": []
    },
    {
      "cell_type": "code",
      "metadata": {
        "id": "_YvXFKwN-4yY"
      },
      "source": [
        "!cp -av '/content/drive/MyDrive/Colab Notebooks/5Fold/fold4' '/content/drive/MyDrive/Colab Notebooks/5Fold/test4/valid'"
      ],
      "execution_count": null,
      "outputs": []
    },
    {
      "cell_type": "code",
      "metadata": {
        "id": "niv68KvGBEBA"
      },
      "source": [
        "print(model.summary())\n",
        "for i, layer in enumerate(model.layers):\n",
        "  print(i, layer.name)\n",
        "  print(i,layer.trainable)"
      ],
      "execution_count": null,
      "outputs": []
    },
    {
      "cell_type": "code",
      "metadata": {
        "id": "4ESBcmgtyrfA",
        "colab": {
          "base_uri": "https://localhost:8080/"
        },
        "outputId": "9ff6bb79-5fea-4f6d-935f-14c0d14a7ada"
      },
      "source": [
        "import os\n",
        "FOLDER_PATH = 'Colab Notebooks/NewClass5Test1/val/UCEC'\n",
        "ROOT_PATH = '/content/drive/MyDrive/'\n",
        "print(len(os.listdir(os.path.join(ROOT_PATH, FOLDER_PATH))))"
      ],
      "execution_count": null,
      "outputs": [
        {
          "output_type": "stream",
          "name": "stdout",
          "text": [
            "32\n"
          ]
        }
      ]
    },
    {
      "cell_type": "code",
      "metadata": {
        "id": "zXl1I8luyrxH"
      },
      "source": [
        "import math\n",
        "from sklearn.model_selection import KFold\n",
        "train_datagen = tf.keras.preprocessing.image.ImageDataGenerator(preprocessing_function=tf.keras.applications.densenet.preprocess_input)\n",
        "train_set = train_datagen.flow_from_directory('/content/drive/MyDrive/Colab Notebooks/NewClass12Test1/train/', \n",
        "                                                   target_size = (224, 224),\n",
        "                                                   color_mode = 'rgb',\n",
        "                                                   batch_size = 32,\n",
        "                                                   class_mode = 'categorical',\n",
        "                                                   shuffle = True)\n",
        "#test_datagen = tf.keras.preprocessing.image.ImageDataGenerator(preprocessing_function=tf.keras.applications.densenet.preprocess_input)\n",
        "#test_set = test_datagen.flow_from_directory('/content/drive/MyDrive/Colab Notebooks/NewTraining7/test/', \n",
        "#                                                 target_size = (224, 224),\n",
        "#                                                 color_mode = 'rgb',\n",
        "#                                                  batch_size = 32,\n",
        " #                                                 class_mode = 'categorical',\n",
        "  #                                                shuffle = False)\n",
        "\n",
        "val_datagen = tf.keras.preprocessing.image.ImageDataGenerator(preprocessing_function=tf.keras.applications.densenet.preprocess_input)\n",
        "valid_set = val_datagen.flow_from_directory('/content/drive/MyDrive/Colab Notebooks/NewClass12Test1/val/', \n",
        "                                                   target_size = (224, 224),\n",
        "                                                   color_mode = 'rgb',\n",
        "                                                   batch_size = 32,\n",
        "                                                   class_mode = 'categorical',\n",
        "                                                   shuffle = False)\n",
        "\n",
        "\n",
        "#train_generator = train_datagen.flow_from_directory('/content/drive/MyDrive/Colab Notebooks/Training2/', \n",
        " #                                                  target_size = (224, 224),\n",
        "  #                                                 color_mode = 'rgb',\n",
        "     #                                              batch_size = 32,\n",
        "        #                                           class_mode = 'categorical',\n",
        "          #                                         shuffle = True)\n",
        "\n",
        "k = 5\n",
        "kf = KFold(n_splits=k, random_state=None)\n",
        "for train, test in kf.split(train_set):\n",
        "  print('Hello')\n",
        "  print(train)\n",
        "  print(test)\n",
        "    #print('Training Data: %d,Testing Data: %d' % (train_set[train], train_set[test]))\n",
        "kf.get_n_splits(train_set)\n",
        "\n"
      ],
      "execution_count": null,
      "outputs": []
    },
    {
      "cell_type": "code",
      "metadata": {
        "colab": {
          "base_uri": "https://localhost:8080/"
        },
        "id": "idpltqta-_cN",
        "outputId": "e3df844f-253c-408f-d528-d8deb44bbb64"
      },
      "source": [
        "k = 1\n",
        "for k in range(1,6):\n",
        "  print(k)"
      ],
      "execution_count": null,
      "outputs": [
        {
          "output_type": "stream",
          "text": [
            "1\n",
            "2\n",
            "3\n",
            "4\n",
            "5\n"
          ],
          "name": "stdout"
        }
      ]
    },
    {
      "cell_type": "code",
      "metadata": {
        "id": "hCMWaLS6bgZS"
      },
      "source": [
        "import scikitplot as skplt\n"
      ],
      "execution_count": null,
      "outputs": []
    },
    {
      "cell_type": "code",
      "metadata": {
        "id": "toKt_aEaekuZ"
      },
      "source": [
        "import math\n",
        "from keras import optimizers, applications\n",
        "from tensorflow.keras.optimizers import SGD,Adam\n",
        "from sklearn.metrics import classification_report, confusion_matrix, accuracy_score\n",
        "from sklearn.metrics import plot_confusion_matrix\n",
        "\n",
        "\n",
        "from tensorflow.keras.callbacks import EarlyStopping, ModelCheckpoint, ReduceLROnPlateau\n",
        "batch_size = 32\n",
        "model.trainable = True\n",
        "#model.compile(optimizer = 'Adam', loss='categorical_crossentropy', metrics=['accuracy'])\n",
        "model.compile(optimizer= SGD(momentum = 0.4, learning_rate = 0.0001), loss='categorical_crossentropy', metrics=['accuracy','AUC'])\n",
        "\n",
        "\n",
        "# Saving the model according to the conditions  \n",
        "\n",
        "OutputDir = '/content/drive/MyDrive/Colab Notebooks/5Fold/'\n",
        "\n",
        "checkpoint = tf.keras.callbacks.ModelCheckpoint(OutputDir+\"densenet121_test1(12clz)_kcrossval.h5\", monitor='accuracy', verbose=1, save_best_only=True, mode='auto')\n",
        "\n",
        "# Early Stopping is a regularization method (To minimize overfitting)\n",
        "early = tf.keras.callbacks.EarlyStopping(monitor='accuracy', min_delta=0, patience=10, verbose=1, mode='auto')\n",
        "\n",
        "reduct_L_rate = ReduceLROnPlateau(monitor='val_loss',factor=0.1, patience=20)\n",
        "\n",
        "path1 = '/content/drive/MyDrive/Colab Notebooks/5Fold/test'\n",
        "\n",
        "# Train the model\n",
        "k = 1\n",
        "\n",
        "for k in range(1,6):\n",
        "  print(\"#FOLD\"+str(k))\n",
        "  train_path = path1+str(k)+'/train/'\n",
        "  valid_path = path1+str(k)+'/valid/'\n",
        "  train_set = train_datagen.flow_from_directory(train_path, \n",
        "                                                   target_size = (224, 224),\n",
        "                                                   color_mode = 'rgb',\n",
        "                                                   batch_size = 32,\n",
        "                                                   class_mode = 'categorical',\n",
        "                                                   shuffle = True)\n",
        "                                             \n",
        "\n",
        "  val_datagen = tf.keras.preprocessing.image.ImageDataGenerator(preprocessing_function=tf.keras.applications.densenet.preprocess_input)\n",
        "  valid_set = val_datagen.flow_from_directory(valid_path, \n",
        "                                                   target_size = (224, 224),\n",
        "                                                   color_mode = 'rgb',\n",
        "                                                   batch_size = 32,\n",
        "                                                   class_mode = 'categorical',\n",
        "                                                   shuffle = False)\n",
        "  \n",
        "  history1 = model.fit_generator(\n",
        "                                train_set,\n",
        "                                steps_per_epoch = train_set.samples//train_set.batch_size,\n",
        "                                epochs = 150,\n",
        "                                validation_data = valid_set,\n",
        "                                validation_steps = valid_set.samples//valid_set.batch_size,\n",
        "                                callbacks=[early,reduct_L_rate,checkpoint])\n",
        "                                \n",
        "  Y_pred = model.predict_generator(valid_set)\n",
        "  y_pred = np.argmax(Y_pred, axis=1)\n",
        "\n",
        "  cm = confusion_matrix(valid_set.classes, y_pred)\n",
        "  category_names = ['0','1','2','3','4']\n",
        "  plot_confusion_matrix(cm, labels = category_names , normalize=False)\n",
        "  "
      ],
      "execution_count": null,
      "outputs": []
    },
    {
      "cell_type": "code",
      "metadata": {
        "id": "kvwrzqmH2tLw"
      },
      "source": [
        "Y_pred = model.predict_generator(valid_set)\n",
        "y_pred = np.argmax(Y_pred, axis=1)\n",
        "\n",
        "cm = confusion_matrix(valid_set.classes, y_pred)\n",
        "plot_confusion_matrix(cm, classes = category_names, title='Confusion Matrix', normalize=False, figname = 'Confusion_matrix_concrete.jpg')"
      ],
      "execution_count": null,
      "outputs": []
    },
    {
      "cell_type": "code",
      "metadata": {
        "id": "RfdpUOyiOi0u"
      },
      "source": [
        "category_names = 'ABS','CDE'\n",
        "print(category_names)\n",
        "print(valid_set.classes)"
      ],
      "execution_count": null,
      "outputs": []
    },
    {
      "cell_type": "code",
      "metadata": {
        "colab": {
          "base_uri": "https://localhost:8080/"
        },
        "id": "LzerNS-wzq-a",
        "outputId": "c4319184-cad7-4743-b97c-f17ea9f77513"
      },
      "source": [
        "# list all data in history\n",
        "print(history1.history.keys())"
      ],
      "execution_count": null,
      "outputs": [
        {
          "output_type": "stream",
          "text": [
            "dict_keys(['loss', 'accuracy', 'auc', 'val_loss', 'val_accuracy', 'val_auc', 'lr'])\n"
          ],
          "name": "stdout"
        }
      ]
    },
    {
      "cell_type": "code",
      "metadata": {
        "colab": {
          "base_uri": "https://localhost:8080/"
        },
        "id": "aYMgv9bz8pBA",
        "outputId": "00bbae5b-6aa8-4e1e-bb8a-f9da16b318ec"
      },
      "source": [
        "model_accuarcy = history1.history['accuracy']\n",
        "average_accuracy = sum(model_accuarcy)/len(model_accuarcy)\n",
        "print(average_accuracy)"
      ],
      "execution_count": null,
      "outputs": [
        {
          "output_type": "stream",
          "text": [
            "0.9997007052103678\n"
          ],
          "name": "stdout"
        }
      ]
    },
    {
      "cell_type": "code",
      "metadata": {
        "colab": {
          "base_uri": "https://localhost:8080/"
        },
        "id": "4B95GkQXAjCF",
        "outputId": "d73c4ba8-748f-4e1e-9cd5-bd80162e9000"
      },
      "source": [
        "model_loss = history1.history['loss']\n",
        "average_loss = sum(model_loss)/len(model_loss)\n",
        "print(average_loss)"
      ],
      "execution_count": null,
      "outputs": [
        {
          "output_type": "stream",
          "text": [
            "0.012957668708016476\n"
          ],
          "name": "stdout"
        }
      ]
    },
    {
      "cell_type": "code",
      "metadata": {
        "colab": {
          "base_uri": "https://localhost:8080/"
        },
        "id": "qYbDtLPaAO7K",
        "outputId": "36c8c0ba-f64a-4ea6-f7d4-a9642ddb1821"
      },
      "source": [
        "validation_accuarcy = history1.history['val_accuracy']\n",
        "average_val_accuracy = sum(validation_accuarcy)/len(validation_accuarcy)\n",
        "print(average_val_accuracy)\n"
      ],
      "execution_count": null,
      "outputs": [
        {
          "output_type": "stream",
          "text": [
            "1.0\n"
          ],
          "name": "stdout"
        }
      ]
    },
    {
      "cell_type": "code",
      "metadata": {
        "colab": {
          "base_uri": "https://localhost:8080/"
        },
        "id": "whKmGyT4A08q",
        "outputId": "dc332b85-207e-416c-df94-81cdda0ce644"
      },
      "source": [
        "val_loss = history1.history['val_loss']\n",
        "average_val_loss = sum(val_loss)/len(val_loss)\n",
        "print(average_val_loss)"
      ],
      "execution_count": null,
      "outputs": [
        {
          "output_type": "stream",
          "text": [
            "0.006014548203287025\n"
          ],
          "name": "stdout"
        }
      ]
    },
    {
      "cell_type": "code",
      "metadata": {
        "id": "4dlMO1GDic3G"
      },
      "source": [
        "# summarize history for loss\n",
        "plt.plot(history1.history['loss'])\n",
        "plt.plot(history1.history['val_loss'])\n",
        "plt.title('model loss for 5 classes')\n",
        "plt.ylabel('loss')\n",
        "plt.xlabel('epoch')\n",
        "plt.legend(['train', 'test'], loc='upper right')\n",
        "plt.show()"
      ],
      "execution_count": null,
      "outputs": []
    },
    {
      "cell_type": "code",
      "metadata": {
        "id": "KkMRZyjbZXcn"
      },
      "source": [
        "plt.plot(history1.history['loss'])\n",
        "\n",
        "plt.title('Training loss for 12 classes')\n",
        "plt.ylabel('loss')\n",
        "plt.xlabel('epoch')\n",
        "#plt.legend(['train', 'test'], loc='upper left')\n",
        "plt.show()"
      ],
      "execution_count": null,
      "outputs": []
    },
    {
      "cell_type": "code",
      "metadata": {
        "id": "uNb7JPIAZxkE"
      },
      "source": [
        "\n",
        "plt.plot(history1.history['val_loss'])\n",
        "plt.title('Validation loss for 12 classes')\n",
        "plt.ylabel('loss')\n",
        "plt.xlabel('epoch')\n",
        "\n",
        "plt.show()"
      ],
      "execution_count": null,
      "outputs": []
    },
    {
      "cell_type": "code",
      "metadata": {
        "id": "dxkUEOopHIgj"
      },
      "source": [
        "# summarize history for loss\n",
        "plt.plot(history1.history['accuracy'])\n",
        "plt.plot(history1.history['val_accuracy'])\n",
        "plt.title('model accuracy for 12 classes')\n",
        "plt.ylabel('accuracy')\n",
        "plt.xlabel('epoch')\n",
        "plt.legend(['train', 'test'], loc='upper left')\n",
        "plt.show()"
      ],
      "execution_count": null,
      "outputs": []
    },
    {
      "cell_type": "code",
      "metadata": {
        "id": "-2SQXfJ67Ji7"
      },
      "source": [
        "plt.plot(history1.history['accuracy'])\n",
        "\n",
        "plt.title('model accuracy for 12 classes')\n",
        "plt.ylabel('accuracy')\n",
        "plt.xlabel('epoch')\n",
        "\n",
        "plt.show()"
      ],
      "execution_count": null,
      "outputs": []
    },
    {
      "cell_type": "code",
      "metadata": {
        "id": "lx9t1sAPrc0C"
      },
      "source": [
        "\n",
        "plt.plot(history1.history['val_accuracy'])\n",
        "plt.title('Validation accuracy for 12 classes')\n",
        "plt.ylabel('accuracy')\n",
        "plt.xlabel('epoch')\n",
        "\n",
        "plt.show()"
      ],
      "execution_count": null,
      "outputs": []
    },
    {
      "cell_type": "code",
      "metadata": {
        "id": "UaDMLt8QdwiI"
      },
      "source": [
        "print(train_set.classes)"
      ],
      "execution_count": null,
      "outputs": []
    },
    {
      "cell_type": "code",
      "metadata": {
        "id": "93Ty2T4acUgH"
      },
      "source": [
        "\n",
        "\n"
      ],
      "execution_count": null,
      "outputs": []
    }
  ]
}